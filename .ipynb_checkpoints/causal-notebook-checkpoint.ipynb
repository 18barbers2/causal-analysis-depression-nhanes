{
 "cells": [
  {
   "cell_type": "markdown",
   "metadata": {},
   "source": [
    "## Casual Analysis of Risk factors associated with depression"
   ]
  },
  {
   "cell_type": "code",
   "execution_count": 1,
   "metadata": {},
   "outputs": [],
   "source": [
    "import numpy as np\n",
    "import pandas as pd\n",
    "\n",
    "import os\n",
    "from functools import reduce  \n",
    "\n",
    "import matplotlib\n",
    "import matplotlib.pyplot as plt\n",
    "import seaborn as sns\n",
    "\n",
    "import scipy.stats as stats\n",
    "\n",
    "from sklearn.feature_selection import SelectKBest\n",
    "from sklearn.feature_selection import RFECV\n",
    "from sklearn.feature_selection import chi2, f_regression\n",
    "\n",
    "from sklearn.linear_model import LogisticRegression\n",
    "from sklearn.linear_model import LinearRegression\n",
    "from sklearn.linear_model import Lasso\n",
    "\n",
    "from sklearn.preprocessing import StandardScaler\n",
    "from sklearn.preprocessing import LabelEncoder\n",
    "\n",
    "from sklearn.model_selection import train_test_split\n",
    "from sklearn.model_selection import KFold\n",
    "from sklearn.model_selection import StratifiedKFold\n",
    "from sklearn.metrics import mean_squared_error\n"
   ]
  },
  {
   "cell_type": "markdown",
   "metadata": {},
   "source": [
    "## Load Data"
   ]
  },
  {
   "cell_type": "code",
   "execution_count": 2,
   "metadata": {},
   "outputs": [
    {
     "name": "stdout",
     "output_type": "stream",
     "text": [
      "(9254, 191)\n"
     ]
    }
   ],
   "source": [
    "# full data\n",
    "full_data = pd.DataFrame()\n",
    "\n",
    "# from each file\n",
    "for filename in os.listdir('data'):\n",
    "    if(filename.endswith(\".XPT\")):\n",
    "        file = os.path.join('data', filename)\n",
    "        newcols = pd.read_sas(file, encoding='UTF-8')\n",
    "        \n",
    "        if(len(full_data) == 0):\n",
    "            full_data = newcols\n",
    "        else:\n",
    "            full_data = pd.merge(full_data, newcols, on = \"SEQN\", how = \"outer\")\n",
    "\n",
    "#in case we want the file in csv\n",
    "full_data.to_csv('data/data_combined.csv')\n",
    "\n",
    "print(full_data.shape)"
   ]
  },
  {
   "cell_type": "code",
   "execution_count": 3,
   "metadata": {},
   "outputs": [
    {
     "data": {
      "text/html": [
       "<div>\n",
       "<style scoped>\n",
       "    .dataframe tbody tr th:only-of-type {\n",
       "        vertical-align: middle;\n",
       "    }\n",
       "\n",
       "    .dataframe tbody tr th {\n",
       "        vertical-align: top;\n",
       "    }\n",
       "\n",
       "    .dataframe thead th {\n",
       "        text-align: right;\n",
       "    }\n",
       "</style>\n",
       "<table border=\"1\" class=\"dataframe\">\n",
       "  <thead>\n",
       "    <tr style=\"text-align: right;\">\n",
       "      <th></th>\n",
       "      <th>SEQN</th>\n",
       "      <th>DPQ010</th>\n",
       "      <th>DPQ020</th>\n",
       "      <th>DPQ030</th>\n",
       "      <th>DPQ040</th>\n",
       "      <th>DPQ050</th>\n",
       "      <th>DPQ060</th>\n",
       "      <th>DPQ070</th>\n",
       "      <th>DPQ080</th>\n",
       "      <th>DPQ090</th>\n",
       "      <th>...</th>\n",
       "      <th>WHD080L</th>\n",
       "      <th>WHQ225</th>\n",
       "      <th>WHD110</th>\n",
       "      <th>WHD120</th>\n",
       "      <th>WHD130</th>\n",
       "      <th>WHD140</th>\n",
       "      <th>WHQ150</th>\n",
       "      <th>WHQ190</th>\n",
       "      <th>WHQ200</th>\n",
       "      <th>sum_DPQ</th>\n",
       "    </tr>\n",
       "  </thead>\n",
       "  <tbody>\n",
       "    <tr>\n",
       "      <th>count</th>\n",
       "      <td>3344.000000</td>\n",
       "      <td>3.344000e+03</td>\n",
       "      <td>3.344000e+03</td>\n",
       "      <td>3.344000e+03</td>\n",
       "      <td>3.344000e+03</td>\n",
       "      <td>3.344000e+03</td>\n",
       "      <td>3.344000e+03</td>\n",
       "      <td>3.344000e+03</td>\n",
       "      <td>3.344000e+03</td>\n",
       "      <td>3.344000e+03</td>\n",
       "      <td>...</td>\n",
       "      <td>22.0</td>\n",
       "      <td>3344.000000</td>\n",
       "      <td>2345.000000</td>\n",
       "      <td>2815.000000</td>\n",
       "      <td>1664.000000</td>\n",
       "      <td>3343.000000</td>\n",
       "      <td>3310.000000</td>\n",
       "      <td>3344.000000</td>\n",
       "      <td>53.000000</td>\n",
       "      <td>3344.000000</td>\n",
       "    </tr>\n",
       "    <tr>\n",
       "      <th>mean</th>\n",
       "      <td>98297.694378</td>\n",
       "      <td>5.855263e-01</td>\n",
       "      <td>5.278110e-01</td>\n",
       "      <td>9.614234e-01</td>\n",
       "      <td>1.138158e+00</td>\n",
       "      <td>5.915072e-01</td>\n",
       "      <td>3.699163e-01</td>\n",
       "      <td>3.992225e-01</td>\n",
       "      <td>2.535885e-01</td>\n",
       "      <td>7.954545e-02</td>\n",
       "      <td>...</td>\n",
       "      <td>40.0</td>\n",
       "      <td>3.264055</td>\n",
       "      <td>476.912154</td>\n",
       "      <td>482.402487</td>\n",
       "      <td>370.633413</td>\n",
       "      <td>292.377804</td>\n",
       "      <td>637.620846</td>\n",
       "      <td>1.984151</td>\n",
       "      <td>42.509434</td>\n",
       "      <td>5.227572</td>\n",
       "    </tr>\n",
       "    <tr>\n",
       "      <th>std</th>\n",
       "      <td>2680.753547</td>\n",
       "      <td>8.729558e-01</td>\n",
       "      <td>8.224733e-01</td>\n",
       "      <td>1.026718e+00</td>\n",
       "      <td>9.422720e-01</td>\n",
       "      <td>8.933561e-01</td>\n",
       "      <td>7.361064e-01</td>\n",
       "      <td>7.989744e-01</td>\n",
       "      <td>6.556223e-01</td>\n",
       "      <td>3.647826e-01</td>\n",
       "      <td>...</td>\n",
       "      <td>0.0</td>\n",
       "      <td>1.798048</td>\n",
       "      <td>1686.002440</td>\n",
       "      <td>1765.723266</td>\n",
       "      <td>1712.586305</td>\n",
       "      <td>928.690675</td>\n",
       "      <td>7670.812149</td>\n",
       "      <td>0.124911</td>\n",
       "      <td>11.500205</td>\n",
       "      <td>4.745192</td>\n",
       "    </tr>\n",
       "    <tr>\n",
       "      <th>min</th>\n",
       "      <td>93711.000000</td>\n",
       "      <td>5.397605e-79</td>\n",
       "      <td>5.397605e-79</td>\n",
       "      <td>5.397605e-79</td>\n",
       "      <td>5.397605e-79</td>\n",
       "      <td>5.397605e-79</td>\n",
       "      <td>5.397605e-79</td>\n",
       "      <td>5.397605e-79</td>\n",
       "      <td>5.397605e-79</td>\n",
       "      <td>5.397605e-79</td>\n",
       "      <td>...</td>\n",
       "      <td>40.0</td>\n",
       "      <td>1.000000</td>\n",
       "      <td>78.000000</td>\n",
       "      <td>70.000000</td>\n",
       "      <td>41.000000</td>\n",
       "      <td>90.000000</td>\n",
       "      <td>12.000000</td>\n",
       "      <td>1.000000</td>\n",
       "      <td>21.000000</td>\n",
       "      <td>1.000000</td>\n",
       "    </tr>\n",
       "    <tr>\n",
       "      <th>25%</th>\n",
       "      <td>95951.500000</td>\n",
       "      <td>5.397605e-79</td>\n",
       "      <td>5.397605e-79</td>\n",
       "      <td>5.397605e-79</td>\n",
       "      <td>5.397605e-79</td>\n",
       "      <td>5.397605e-79</td>\n",
       "      <td>5.397605e-79</td>\n",
       "      <td>5.397605e-79</td>\n",
       "      <td>5.397605e-79</td>\n",
       "      <td>5.397605e-79</td>\n",
       "      <td>...</td>\n",
       "      <td>40.0</td>\n",
       "      <td>1.000000</td>\n",
       "      <td>145.000000</td>\n",
       "      <td>125.000000</td>\n",
       "      <td>63.000000</td>\n",
       "      <td>160.000000</td>\n",
       "      <td>26.000000</td>\n",
       "      <td>2.000000</td>\n",
       "      <td>35.000000</td>\n",
       "      <td>2.000000</td>\n",
       "    </tr>\n",
       "    <tr>\n",
       "      <th>50%</th>\n",
       "      <td>98315.000000</td>\n",
       "      <td>5.397605e-79</td>\n",
       "      <td>5.397605e-79</td>\n",
       "      <td>1.000000e+00</td>\n",
       "      <td>1.000000e+00</td>\n",
       "      <td>5.397605e-79</td>\n",
       "      <td>5.397605e-79</td>\n",
       "      <td>5.397605e-79</td>\n",
       "      <td>5.397605e-79</td>\n",
       "      <td>5.397605e-79</td>\n",
       "      <td>...</td>\n",
       "      <td>40.0</td>\n",
       "      <td>4.000000</td>\n",
       "      <td>170.000000</td>\n",
       "      <td>148.000000</td>\n",
       "      <td>66.000000</td>\n",
       "      <td>193.000000</td>\n",
       "      <td>39.000000</td>\n",
       "      <td>2.000000</td>\n",
       "      <td>42.000000</td>\n",
       "      <td>4.000000</td>\n",
       "    </tr>\n",
       "    <tr>\n",
       "      <th>75%</th>\n",
       "      <td>100592.500000</td>\n",
       "      <td>1.000000e+00</td>\n",
       "      <td>1.000000e+00</td>\n",
       "      <td>1.000000e+00</td>\n",
       "      <td>2.000000e+00</td>\n",
       "      <td>1.000000e+00</td>\n",
       "      <td>1.000000e+00</td>\n",
       "      <td>1.000000e+00</td>\n",
       "      <td>5.397605e-79</td>\n",
       "      <td>5.397605e-79</td>\n",
       "      <td>...</td>\n",
       "      <td>40.0</td>\n",
       "      <td>5.000000</td>\n",
       "      <td>208.000000</td>\n",
       "      <td>180.000000</td>\n",
       "      <td>70.000000</td>\n",
       "      <td>236.000000</td>\n",
       "      <td>54.000000</td>\n",
       "      <td>2.000000</td>\n",
       "      <td>51.000000</td>\n",
       "      <td>7.000000</td>\n",
       "    </tr>\n",
       "    <tr>\n",
       "      <th>max</th>\n",
       "      <td>102956.000000</td>\n",
       "      <td>3.000000e+00</td>\n",
       "      <td>3.000000e+00</td>\n",
       "      <td>3.000000e+00</td>\n",
       "      <td>3.000000e+00</td>\n",
       "      <td>3.000000e+00</td>\n",
       "      <td>3.000000e+00</td>\n",
       "      <td>3.000000e+00</td>\n",
       "      <td>3.000000e+00</td>\n",
       "      <td>3.000000e+00</td>\n",
       "      <td>...</td>\n",
       "      <td>40.0</td>\n",
       "      <td>9.000000</td>\n",
       "      <td>9999.000000</td>\n",
       "      <td>9999.000000</td>\n",
       "      <td>9999.000000</td>\n",
       "      <td>9999.000000</td>\n",
       "      <td>99999.000000</td>\n",
       "      <td>2.000000</td>\n",
       "      <td>61.000000</td>\n",
       "      <td>28.000000</td>\n",
       "    </tr>\n",
       "  </tbody>\n",
       "</table>\n",
       "<p>8 rows × 192 columns</p>\n",
       "</div>"
      ],
      "text/plain": [
       "                SEQN        DPQ010        DPQ020        DPQ030        DPQ040  \\\n",
       "count    3344.000000  3.344000e+03  3.344000e+03  3.344000e+03  3.344000e+03   \n",
       "mean    98297.694378  5.855263e-01  5.278110e-01  9.614234e-01  1.138158e+00   \n",
       "std      2680.753547  8.729558e-01  8.224733e-01  1.026718e+00  9.422720e-01   \n",
       "min     93711.000000  5.397605e-79  5.397605e-79  5.397605e-79  5.397605e-79   \n",
       "25%     95951.500000  5.397605e-79  5.397605e-79  5.397605e-79  5.397605e-79   \n",
       "50%     98315.000000  5.397605e-79  5.397605e-79  1.000000e+00  1.000000e+00   \n",
       "75%    100592.500000  1.000000e+00  1.000000e+00  1.000000e+00  2.000000e+00   \n",
       "max    102956.000000  3.000000e+00  3.000000e+00  3.000000e+00  3.000000e+00   \n",
       "\n",
       "             DPQ050        DPQ060        DPQ070        DPQ080        DPQ090  \\\n",
       "count  3.344000e+03  3.344000e+03  3.344000e+03  3.344000e+03  3.344000e+03   \n",
       "mean   5.915072e-01  3.699163e-01  3.992225e-01  2.535885e-01  7.954545e-02   \n",
       "std    8.933561e-01  7.361064e-01  7.989744e-01  6.556223e-01  3.647826e-01   \n",
       "min    5.397605e-79  5.397605e-79  5.397605e-79  5.397605e-79  5.397605e-79   \n",
       "25%    5.397605e-79  5.397605e-79  5.397605e-79  5.397605e-79  5.397605e-79   \n",
       "50%    5.397605e-79  5.397605e-79  5.397605e-79  5.397605e-79  5.397605e-79   \n",
       "75%    1.000000e+00  1.000000e+00  1.000000e+00  5.397605e-79  5.397605e-79   \n",
       "max    3.000000e+00  3.000000e+00  3.000000e+00  3.000000e+00  3.000000e+00   \n",
       "\n",
       "       ...  WHD080L       WHQ225       WHD110       WHD120       WHD130  \\\n",
       "count  ...     22.0  3344.000000  2345.000000  2815.000000  1664.000000   \n",
       "mean   ...     40.0     3.264055   476.912154   482.402487   370.633413   \n",
       "std    ...      0.0     1.798048  1686.002440  1765.723266  1712.586305   \n",
       "min    ...     40.0     1.000000    78.000000    70.000000    41.000000   \n",
       "25%    ...     40.0     1.000000   145.000000   125.000000    63.000000   \n",
       "50%    ...     40.0     4.000000   170.000000   148.000000    66.000000   \n",
       "75%    ...     40.0     5.000000   208.000000   180.000000    70.000000   \n",
       "max    ...     40.0     9.000000  9999.000000  9999.000000  9999.000000   \n",
       "\n",
       "            WHD140        WHQ150       WHQ190     WHQ200      sum_DPQ  \n",
       "count  3343.000000   3310.000000  3344.000000  53.000000  3344.000000  \n",
       "mean    292.377804    637.620846     1.984151  42.509434     5.227572  \n",
       "std     928.690675   7670.812149     0.124911  11.500205     4.745192  \n",
       "min      90.000000     12.000000     1.000000  21.000000     1.000000  \n",
       "25%     160.000000     26.000000     2.000000  35.000000     2.000000  \n",
       "50%     193.000000     39.000000     2.000000  42.000000     4.000000  \n",
       "75%     236.000000     54.000000     2.000000  51.000000     7.000000  \n",
       "max    9999.000000  99999.000000     2.000000  61.000000    28.000000  \n",
       "\n",
       "[8 rows x 192 columns]"
      ]
     },
     "execution_count": 3,
     "metadata": {},
     "output_type": "execute_result"
    }
   ],
   "source": [
    "cols = full_data.loc[:,\"DPQ010\":\"DPQ100\"].columns\n",
    "valid = full_data.copy()\n",
    "# valid[cols] = valid[cols].round()\n",
    "\n",
    "# only care about values 0-3\n",
    "for i in range(len(cols)):\n",
    "    valid = valid.loc[valid[cols[i]] <=3]\n",
    "\n",
    "# sum_dp\n",
    "valid[\"sum_DPQ\"] = valid[cols].sum(axis=\"columns\", skipna = True)\n",
    "valid.describe()"
   ]
  },
  {
   "cell_type": "code",
   "execution_count": 4,
   "metadata": {},
   "outputs": [],
   "source": [
    "# chosen variables TODO: fill these in\n",
    "features = ['SEQN', 'RIAGENDR', 'RIDAGEYR', 'RIDRETH1', 'DMDCITZN', 'DMDEDUC2', 'DMDHHSIZ',\n",
    "            'INDHHIN2', 'BMXBMI', 'URXUAS', 'URXUHG', 'ALQ130', 'DUQ217', 'FSD230', 'INDFMMPI',\n",
    "            'PAD680', 'OCQ180', 'OCQ210', 'SMQ040', 'SMD650', 'SLD012', 'sum_DPQ']\n",
    "\n",
    "subdata = full_data.filter(items=features)\n",
    "subdata=subdata[subdata.RIDAGEYR >= 18]\n",
    "subdata_features = subdata.filter(items=['RIAGENDR', 'RIDAGEYR', 'RIDRETH1', 'DMDCITZN', 'DMDEDUC2', 'DMDHHSIZ',\n",
    "            'INDHHIN2', 'BMXBMI', 'URXUAS', 'URXUHG', 'ALQ130', 'DUQ217', 'FSD230', 'INDFMMPI',\n",
    "            'PAD680', 'OCQ180', 'OCQ210', 'SMQ040', 'SMD650', 'SLD012'])"
   ]
  },
  {
   "cell_type": "code",
   "execution_count": 5,
   "metadata": {},
   "outputs": [
    {
     "data": {
      "text/plain": [
       "(array([0.01905958, 0.01399172, 0.01448748, 0.01390909, 0.0134684 ,\n",
       "        0.01702142, 0.01801296, 0.01793033, 0.01269721, 0.02071215]),\n",
       " array([18. , 24.2, 30.4, 36.6, 42.8, 49. , 55.2, 61.4, 67.6, 73.8, 80. ]),\n",
       " <BarContainer object of 10 artists>)"
      ]
     },
     "execution_count": 5,
     "metadata": {},
     "output_type": "execute_result"
    },
    {
     "data": {
      "image/png": "[encoded data removed]",
      "text/plain": [
       "<Figure size 432x288 with 1 Axes>"
      ]
     },
     "metadata": {
      "needs_background": "light"
     },
     "output_type": "display_data"
    }
   ],
   "source": [
    "plt.hist(subdata['RIDAGEYR'], density=True)"
   ]
  },
  {
   "cell_type": "code",
   "execution_count": 6,
   "metadata": {},
   "outputs": [
    {
     "data": {
      "text/plain": [
       "(array([2840.,    0.,    0.,    0.,    0.,    0.,    0.,    0.,    0.,\n",
       "        3016.]),\n",
       " array([1. , 1.1, 1.2, 1.3, 1.4, 1.5, 1.6, 1.7, 1.8, 1.9, 2. ]),\n",
       " <BarContainer object of 10 artists>)"
      ]
     },
     "execution_count": 6,
     "metadata": {},
     "output_type": "execute_result"
    },
    {
     "data": {
      "image/png": "[encoded data removed]",
      "text/plain": [
       "<Figure size 432x288 with 1 Axes>"
      ]
     },
     "metadata": {
      "needs_background": "light"
     },
     "output_type": "display_data"
    }
   ],
   "source": [
    "plt.hist(subdata['RIAGENDR'])"
   ]
  },
  {
   "cell_type": "code",
   "execution_count": 7,
   "metadata": {},
   "outputs": [
    {
     "data": {
      "text/plain": [
       "(array([0.33811475, 0.        , 0.23181352, 0.        , 0.        ,\n",
       "        0.86748634, 0.        , 0.57334358, 0.        , 0.4892418 ]),\n",
       " array([1. , 1.4, 1.8, 2.2, 2.6, 3. , 3.4, 3.8, 4.2, 4.6, 5. ]),\n",
       " <BarContainer object of 10 artists>)"
      ]
     },
     "execution_count": 7,
     "metadata": {},
     "output_type": "execute_result"
    },
    {
     "data": {
      "image/png": "[encoded data removed]",
      "text/plain": [
       "<Figure size 432x288 with 1 Axes>"
      ]
     },
     "metadata": {
      "needs_background": "light"
     },
     "output_type": "display_data"
    }
   ],
   "source": [
    "plt.hist(subdata['RIDRETH1'], density=True)"
   ]
  },
  {
   "cell_type": "code",
   "execution_count": 8,
   "metadata": {},
   "outputs": [
    {
     "data": {
      "image/png": "[encoded data removed]",
      "text/plain": [
       "<Figure size 432x288 with 2 Axes>"
      ]
     },
     "metadata": {
      "needs_background": "light"
     },
     "output_type": "display_data"
    }
   ],
   "source": [
    "import seaborn as sns\n",
    "#correlation heatmap\n",
    "matrix = subdata_features.corr(method = 'pearson', min_periods = 100).round(2)\n",
    "#matrix = matrix.unstack()\n",
    "matrix = matrix[abs(matrix) >= 0.2]\n",
    "#mask = np.triu(np.ones_like(matrix, dtype=bool))\n",
    "sns.heatmap(matrix, annot=True, vmax=1, vmin=-1, center=0, cmap='vlag')\n",
    "plt.show()"
   ]
  },
  {
   "cell_type": "code",
   "execution_count": null,
   "metadata": {},
   "outputs": [],
   "source": []
  }
 ],
 "metadata": {
  "kernelspec": {
   "display_name": "Python 3",
   "language": "python",
   "name": "python3"
  },
  "language_info": {
   "codemirror_mode": {
    "name": "ipython",
    "version": 3
   },
   "file_extension": ".py",
   "mimetype": "text/x-python",
   "name": "python",
   "nbconvert_exporter": "python",
   "pygments_lexer": "ipython3",
   "version": "3.8.5"
  }
 },
 "nbformat": 4,
 "nbformat_minor": 4
}

{
 "cells": [
  {
   "cell_type": "markdown",
   "metadata": {},
   "source": [
    "## Casual Analysis of Risk factors associated with depression"
   ]
  },
  {
   "cell_type": "code",
   "execution_count": 2775,
   "metadata": {},
   "outputs": [],
   "source": [
    "import numpy as np\n",
    "import pandas as pd\n",
    "\n",
    "import os\n",
    "from functools import reduce  \n",
    "\n",
    "import matplotlib\n",
    "import matplotlib.pyplot as plt\n",
    "import seaborn as sns\n",
    "\n",
    "import scipy.stats as stats\n",
    "\n",
    "from sklearn.feature_selection import SelectKBest\n",
    "from sklearn.feature_selection import RFECV\n",
    "from sklearn.feature_selection import chi2, f_regression\n",
    "from sklearn.feature_selection import SequentialFeatureSelector\n",
    "\n",
    "from sklearn.linear_model import LogisticRegression\n",
    "from sklearn.linear_model import LinearRegression\n",
    "from sklearn.linear_model import LassoCV\n",
    "\n",
    "from sklearn.preprocessing import StandardScaler\n",
    "from sklearn.preprocessing import LabelEncoder\n",
    "from sklearn.preprocessing import RobustScaler\n",
    "from sklearn.preprocessing import Normalizer\n",
    "\n",
    "from sklearn.model_selection import train_test_split\n",
    "from sklearn.model_selection import KFold\n",
    "from sklearn.model_selection import StratifiedKFold\n",
    "\n",
    "from sklearn.metrics import mean_squared_error\n",
    "from sklearn.metrics import r2_score\n",
    "\n",
    "import random\n",
    "from prettytable import PrettyTable"
   ]
  },
  {
   "cell_type": "markdown",
   "metadata": {},
   "source": [
    "## Load Data"
   ]
  },
  {
   "cell_type": "code",
   "execution_count": 2776,
   "metadata": {},
   "outputs": [
    {
     "name": "stdout",
     "output_type": "stream",
     "text": [
      "(9254, 310)\n"
     ]
    }
   ],
   "source": [
    "RANDOM_SEED = 4200\n",
    "\n",
    "# full data\n",
    "full_data = pd.DataFrame()\n",
    "\n",
    "# from each file\n",
    "for filename in os.listdir('data'):\n",
    "    if(filename.endswith(\".XPT\")):\n",
    "        file = os.path.join('data', filename)\n",
    "        newcols = pd.read_sas(file, encoding='UTF-8')\n",
    "        \n",
    "        if(len(full_data) == 0):\n",
    "            full_data = newcols\n",
    "        else:\n",
    "            full_data = pd.merge(full_data, newcols, on = \"SEQN\", how = \"outer\")\n",
    "\n",
    "#in case we want the file in csv\n",
    "# full_data.to_csv('data/data_combined.csv')\n",
    "\n",
    "print(full_data.shape)"
   ]
  },
  {
   "cell_type": "code",
   "execution_count": 2777,
   "metadata": {
    "tags": []
   },
   "outputs": [
    {
     "name": "stdout",
     "output_type": "stream",
     "text": [
      "(5068, 311)\n"
     ]
    }
   ],
   "source": [
    "cols = full_data.loc[:,\"DPQ010\":\"DPQ090\"].columns\n",
    "valid = full_data.copy()\n",
    "valid[cols] = valid[cols].round()\n",
    "\n",
    "# only care about values 0-3\n",
    "\n",
    "# TODO: FIX THIS, REMOVES ROWS THAT CONTAIN EVEN a single value above 3\n",
    "for i in range(len(cols)):\n",
    "    valid = valid.loc[valid[cols[i]] <=3]\n",
    "    \n",
    "# for i in range(len(cols)):\n",
    "#     valid[cols[i]] = valid.loc[valid[cols[i]] > 3, cols[i]]\n",
    "\n",
    "# sum_dp\n",
    "valid[\"sum_DPQ\"] = valid[cols].sum(axis=\"columns\", skipna = True)\n",
    "print(valid.shape)\n",
    "# valid.describe()"
   ]
  },
  {
   "cell_type": "code",
   "execution_count": 2778,
   "metadata": {},
   "outputs": [
    {
     "data": {
      "text/html": [
       "<div>\n",
       "<style scoped>\n",
       "    .dataframe tbody tr th:only-of-type {\n",
       "        vertical-align: middle;\n",
       "    }\n",
       "\n",
       "    .dataframe tbody tr th {\n",
       "        vertical-align: top;\n",
       "    }\n",
       "\n",
       "    .dataframe thead th {\n",
       "        text-align: right;\n",
       "    }\n",
       "</style>\n",
       "<table border=\"1\" class=\"dataframe\">\n",
       "  <thead>\n",
       "    <tr style=\"text-align: right;\">\n",
       "      <th></th>\n",
       "      <th>SEQN</th>\n",
       "      <th>ALQ111</th>\n",
       "      <th>ALQ121</th>\n",
       "      <th>ALQ130</th>\n",
       "      <th>ALQ142</th>\n",
       "      <th>ALQ270</th>\n",
       "      <th>ALQ280</th>\n",
       "      <th>ALQ290</th>\n",
       "      <th>ALQ151</th>\n",
       "      <th>ALQ170</th>\n",
       "      <th>...</th>\n",
       "      <th>WHD080L</th>\n",
       "      <th>WHQ225</th>\n",
       "      <th>WHD110</th>\n",
       "      <th>WHD120</th>\n",
       "      <th>WHD130</th>\n",
       "      <th>WHD140</th>\n",
       "      <th>WHQ150</th>\n",
       "      <th>WHQ190</th>\n",
       "      <th>WHQ200</th>\n",
       "      <th>sum_DPQ</th>\n",
       "    </tr>\n",
       "  </thead>\n",
       "  <tbody>\n",
       "    <tr>\n",
       "      <th>0</th>\n",
       "      <td>93705.0</td>\n",
       "      <td>1.0</td>\n",
       "      <td>7.000000e+00</td>\n",
       "      <td>1.0</td>\n",
       "      <td>5.397605e-79</td>\n",
       "      <td>NaN</td>\n",
       "      <td>NaN</td>\n",
       "      <td>NaN</td>\n",
       "      <td>2.0</td>\n",
       "      <td>5.000000e+00</td>\n",
       "      <td>...</td>\n",
       "      <td>NaN</td>\n",
       "      <td>4.0</td>\n",
       "      <td>150.0</td>\n",
       "      <td>130.0</td>\n",
       "      <td>63.0</td>\n",
       "      <td>170.0</td>\n",
       "      <td>62.0</td>\n",
       "      <td>2.0</td>\n",
       "      <td>NaN</td>\n",
       "      <td>0.0</td>\n",
       "    </tr>\n",
       "    <tr>\n",
       "      <th>1</th>\n",
       "      <td>93706.0</td>\n",
       "      <td>2.0</td>\n",
       "      <td>NaN</td>\n",
       "      <td>NaN</td>\n",
       "      <td>NaN</td>\n",
       "      <td>NaN</td>\n",
       "      <td>NaN</td>\n",
       "      <td>NaN</td>\n",
       "      <td>NaN</td>\n",
       "      <td>NaN</td>\n",
       "      <td>...</td>\n",
       "      <td>NaN</td>\n",
       "      <td>5.0</td>\n",
       "      <td>NaN</td>\n",
       "      <td>NaN</td>\n",
       "      <td>NaN</td>\n",
       "      <td>150.0</td>\n",
       "      <td>17.0</td>\n",
       "      <td>2.0</td>\n",
       "      <td>NaN</td>\n",
       "      <td>0.0</td>\n",
       "    </tr>\n",
       "    <tr>\n",
       "      <th>2</th>\n",
       "      <td>93708.0</td>\n",
       "      <td>2.0</td>\n",
       "      <td>NaN</td>\n",
       "      <td>NaN</td>\n",
       "      <td>NaN</td>\n",
       "      <td>NaN</td>\n",
       "      <td>NaN</td>\n",
       "      <td>NaN</td>\n",
       "      <td>NaN</td>\n",
       "      <td>NaN</td>\n",
       "      <td>...</td>\n",
       "      <td>NaN</td>\n",
       "      <td>5.0</td>\n",
       "      <td>118.0</td>\n",
       "      <td>100.0</td>\n",
       "      <td>60.0</td>\n",
       "      <td>120.0</td>\n",
       "      <td>40.0</td>\n",
       "      <td>2.0</td>\n",
       "      <td>NaN</td>\n",
       "      <td>0.0</td>\n",
       "    </tr>\n",
       "    <tr>\n",
       "      <th>4</th>\n",
       "      <td>93711.0</td>\n",
       "      <td>1.0</td>\n",
       "      <td>5.000000e+00</td>\n",
       "      <td>1.0</td>\n",
       "      <td>5.397605e-79</td>\n",
       "      <td>NaN</td>\n",
       "      <td>NaN</td>\n",
       "      <td>NaN</td>\n",
       "      <td>2.0</td>\n",
       "      <td>5.397605e-79</td>\n",
       "      <td>...</td>\n",
       "      <td>NaN</td>\n",
       "      <td>5.0</td>\n",
       "      <td>142.0</td>\n",
       "      <td>148.0</td>\n",
       "      <td>69.0</td>\n",
       "      <td>152.0</td>\n",
       "      <td>33.0</td>\n",
       "      <td>2.0</td>\n",
       "      <td>NaN</td>\n",
       "      <td>2.0</td>\n",
       "    </tr>\n",
       "    <tr>\n",
       "      <th>5</th>\n",
       "      <td>93712.0</td>\n",
       "      <td>1.0</td>\n",
       "      <td>5.397605e-79</td>\n",
       "      <td>NaN</td>\n",
       "      <td>NaN</td>\n",
       "      <td>NaN</td>\n",
       "      <td>NaN</td>\n",
       "      <td>NaN</td>\n",
       "      <td>2.0</td>\n",
       "      <td>NaN</td>\n",
       "      <td>...</td>\n",
       "      <td>NaN</td>\n",
       "      <td>5.0</td>\n",
       "      <td>NaN</td>\n",
       "      <td>NaN</td>\n",
       "      <td>NaN</td>\n",
       "      <td>137.0</td>\n",
       "      <td>17.0</td>\n",
       "      <td>2.0</td>\n",
       "      <td>NaN</td>\n",
       "      <td>1.0</td>\n",
       "    </tr>\n",
       "  </tbody>\n",
       "</table>\n",
       "<p>5 rows × 311 columns</p>\n",
       "</div>"
      ],
      "text/plain": [
       "      SEQN  ALQ111        ALQ121  ALQ130        ALQ142  ALQ270  ALQ280  \\\n",
       "0  93705.0     1.0  7.000000e+00     1.0  5.397605e-79     NaN     NaN   \n",
       "1  93706.0     2.0           NaN     NaN           NaN     NaN     NaN   \n",
       "2  93708.0     2.0           NaN     NaN           NaN     NaN     NaN   \n",
       "4  93711.0     1.0  5.000000e+00     1.0  5.397605e-79     NaN     NaN   \n",
       "5  93712.0     1.0  5.397605e-79     NaN           NaN     NaN     NaN   \n",
       "\n",
       "   ALQ290  ALQ151        ALQ170  ...  WHD080L  WHQ225  WHD110  WHD120  WHD130  \\\n",
       "0     NaN     2.0  5.000000e+00  ...      NaN     4.0   150.0   130.0    63.0   \n",
       "1     NaN     NaN           NaN  ...      NaN     5.0     NaN     NaN     NaN   \n",
       "2     NaN     NaN           NaN  ...      NaN     5.0   118.0   100.0    60.0   \n",
       "4     NaN     2.0  5.397605e-79  ...      NaN     5.0   142.0   148.0    69.0   \n",
       "5     NaN     2.0           NaN  ...      NaN     5.0     NaN     NaN     NaN   \n",
       "\n",
       "   WHD140  WHQ150  WHQ190  WHQ200  sum_DPQ  \n",
       "0   170.0    62.0     2.0     NaN      0.0  \n",
       "1   150.0    17.0     2.0     NaN      0.0  \n",
       "2   120.0    40.0     2.0     NaN      0.0  \n",
       "4   152.0    33.0     2.0     NaN      2.0  \n",
       "5   137.0    17.0     2.0     NaN      1.0  \n",
       "\n",
       "[5 rows x 311 columns]"
      ]
     },
     "execution_count": 2778,
     "metadata": {},
     "output_type": "execute_result"
    }
   ],
   "source": [
    "valid.head()"
   ]
  },
  {
   "cell_type": "code",
   "execution_count": 2779,
   "metadata": {
    "tags": []
   },
   "outputs": [],
   "source": [
    "# chosen variables, SEQN removed\n",
    "# features = ['SEQN','RIAGENDR', 'RIDAGEYR', 'RIDRETH1', 'DMDCITZN', 'DMDEDUC2', 'DMDHHSIZ',\n",
    "#             'INDHHIN2', 'BMXBMI', 'URXUAS', 'URXUHG', 'ALQ130', 'DUQ217', 'FSD230', 'INDFMMPI',\n",
    "#             'PAD680', 'OCQ180', 'OCQ210', 'SMQ040', 'SMD650', 'SLD012', 'sum_DPQ']\n",
    "\n",
    "features = ['SEQN','RIAGENDR', 'RIDAGEYR', 'RIDRETH1', 'DMDCITZN', 'DMDEDUC2', 'DMDHHSIZ',\n",
    "            'INDHHIN2','INDFMIN2', 'BMXBMI', 'URXUAS', 'URXUHG', 'ALQ130', 'DUQ217', 'FSD230', 'INDFMMPI',\n",
    "            'PAD680', 'OCQ180', 'OCQ210', 'SMQ040', 'SMD650', 'SLD012', 'FIAINTRP', 'FIAPROXY', 'FSD032A', \n",
    "            'FSD032B', 'FSD032C', 'FSD061', 'HUQ051', 'HUQ090', 'PAD615','SLQ050','OCQ380', 'PAD630', 'PAD660', 'SLQ120','sum_DPQ']\n",
    "\n",
    "subdata = full_data.filter(items = features)\n",
    "subdata = subdata[subdata.RIDAGEYR >= 18]\n",
    "subdata_features = subdata.filter(items=['RIAGENDR', 'RIDAGEYR', 'RIDRETH1', 'DMDCITZN', 'DMDEDUC2', 'DMDHHSIZ',\n",
    "            'INDHHIN2','INDFMIN2', 'BMXBMI', 'URXUAS', 'URXUHG', 'ALQ130', 'DUQ217', 'FSD230', 'INDFMMPI',\n",
    "            'PAD680', 'OCQ180', 'OCQ210', 'SMQ040', 'SMD650', 'SLD012', 'FIAINTRP', 'FIAPROXY', 'FSD032A', \n",
    "            'FSD032B', 'FSD032C', 'FSD061', 'HUQ051', 'HUQ090', 'PAD615','SLQ050','OCQ380', 'PAD630', 'PAD660', 'SLQ120'])"
   ]
  },
  {
   "cell_type": "code",
   "execution_count": 2780,
   "metadata": {},
   "outputs": [
    {
     "data": {
      "text/html": [
       "<div>\n",
       "<style scoped>\n",
       "    .dataframe tbody tr th:only-of-type {\n",
       "        vertical-align: middle;\n",
       "    }\n",
       "\n",
       "    .dataframe tbody tr th {\n",
       "        vertical-align: top;\n",
       "    }\n",
       "\n",
       "    .dataframe thead th {\n",
       "        text-align: right;\n",
       "    }\n",
       "</style>\n",
       "<table border=\"1\" class=\"dataframe\">\n",
       "  <thead>\n",
       "    <tr style=\"text-align: right;\">\n",
       "      <th></th>\n",
       "      <th>RIAGENDR</th>\n",
       "      <th>RIDAGEYR</th>\n",
       "      <th>RIDRETH1</th>\n",
       "      <th>DMDCITZN</th>\n",
       "      <th>DMDEDUC2</th>\n",
       "      <th>DMDHHSIZ</th>\n",
       "      <th>INDHHIN2</th>\n",
       "      <th>INDFMIN2</th>\n",
       "      <th>BMXBMI</th>\n",
       "      <th>URXUAS</th>\n",
       "      <th>...</th>\n",
       "      <th>FSD032C</th>\n",
       "      <th>FSD061</th>\n",
       "      <th>HUQ051</th>\n",
       "      <th>HUQ090</th>\n",
       "      <th>PAD615</th>\n",
       "      <th>SLQ050</th>\n",
       "      <th>OCQ380</th>\n",
       "      <th>PAD630</th>\n",
       "      <th>PAD660</th>\n",
       "      <th>SLQ120</th>\n",
       "    </tr>\n",
       "  </thead>\n",
       "  <tbody>\n",
       "    <tr>\n",
       "      <th>0</th>\n",
       "      <td>2.0</td>\n",
       "      <td>66.0</td>\n",
       "      <td>4.0</td>\n",
       "      <td>1.0</td>\n",
       "      <td>2.0</td>\n",
       "      <td>1.0</td>\n",
       "      <td>3.0</td>\n",
       "      <td>3.0</td>\n",
       "      <td>31.7</td>\n",
       "      <td>NaN</td>\n",
       "      <td>...</td>\n",
       "      <td>3.0</td>\n",
       "      <td>NaN</td>\n",
       "      <td>2.0</td>\n",
       "      <td>2.0</td>\n",
       "      <td>NaN</td>\n",
       "      <td>2.0</td>\n",
       "      <td>NaN</td>\n",
       "      <td>NaN</td>\n",
       "      <td>NaN</td>\n",
       "      <td>5.397605e-79</td>\n",
       "    </tr>\n",
       "    <tr>\n",
       "      <th>1</th>\n",
       "      <td>1.0</td>\n",
       "      <td>18.0</td>\n",
       "      <td>5.0</td>\n",
       "      <td>1.0</td>\n",
       "      <td>NaN</td>\n",
       "      <td>5.0</td>\n",
       "      <td>NaN</td>\n",
       "      <td>NaN</td>\n",
       "      <td>21.5</td>\n",
       "      <td>NaN</td>\n",
       "      <td>...</td>\n",
       "      <td>NaN</td>\n",
       "      <td>NaN</td>\n",
       "      <td>2.0</td>\n",
       "      <td>2.0</td>\n",
       "      <td>NaN</td>\n",
       "      <td>2.0</td>\n",
       "      <td>2.0</td>\n",
       "      <td>NaN</td>\n",
       "      <td>NaN</td>\n",
       "      <td>1.000000e+00</td>\n",
       "    </tr>\n",
       "    <tr>\n",
       "      <th>2</th>\n",
       "      <td>2.0</td>\n",
       "      <td>66.0</td>\n",
       "      <td>5.0</td>\n",
       "      <td>1.0</td>\n",
       "      <td>1.0</td>\n",
       "      <td>2.0</td>\n",
       "      <td>6.0</td>\n",
       "      <td>6.0</td>\n",
       "      <td>23.7</td>\n",
       "      <td>24.07</td>\n",
       "      <td>...</td>\n",
       "      <td>3.0</td>\n",
       "      <td>2.0</td>\n",
       "      <td>3.0</td>\n",
       "      <td>2.0</td>\n",
       "      <td>NaN</td>\n",
       "      <td>2.0</td>\n",
       "      <td>4.0</td>\n",
       "      <td>NaN</td>\n",
       "      <td>NaN</td>\n",
       "      <td>2.000000e+00</td>\n",
       "    </tr>\n",
       "    <tr>\n",
       "      <th>3</th>\n",
       "      <td>2.0</td>\n",
       "      <td>75.0</td>\n",
       "      <td>4.0</td>\n",
       "      <td>1.0</td>\n",
       "      <td>4.0</td>\n",
       "      <td>1.0</td>\n",
       "      <td>2.0</td>\n",
       "      <td>2.0</td>\n",
       "      <td>38.9</td>\n",
       "      <td>NaN</td>\n",
       "      <td>...</td>\n",
       "      <td>3.0</td>\n",
       "      <td>2.0</td>\n",
       "      <td>3.0</td>\n",
       "      <td>2.0</td>\n",
       "      <td>NaN</td>\n",
       "      <td>2.0</td>\n",
       "      <td>6.0</td>\n",
       "      <td>180.0</td>\n",
       "      <td>NaN</td>\n",
       "      <td>1.000000e+00</td>\n",
       "    </tr>\n",
       "    <tr>\n",
       "      <th>4</th>\n",
       "      <td>1.0</td>\n",
       "      <td>56.0</td>\n",
       "      <td>5.0</td>\n",
       "      <td>1.0</td>\n",
       "      <td>5.0</td>\n",
       "      <td>3.0</td>\n",
       "      <td>15.0</td>\n",
       "      <td>15.0</td>\n",
       "      <td>21.3</td>\n",
       "      <td>2.89</td>\n",
       "      <td>...</td>\n",
       "      <td>3.0</td>\n",
       "      <td>NaN</td>\n",
       "      <td>3.0</td>\n",
       "      <td>2.0</td>\n",
       "      <td>NaN</td>\n",
       "      <td>1.0</td>\n",
       "      <td>NaN</td>\n",
       "      <td>NaN</td>\n",
       "      <td>60.0</td>\n",
       "      <td>3.000000e+00</td>\n",
       "    </tr>\n",
       "  </tbody>\n",
       "</table>\n",
       "<p>5 rows × 35 columns</p>\n",
       "</div>"
      ],
      "text/plain": [
       "   RIAGENDR  RIDAGEYR  RIDRETH1  DMDCITZN  DMDEDUC2  DMDHHSIZ  INDHHIN2  \\\n",
       "0       2.0      66.0       4.0       1.0       2.0       1.0       3.0   \n",
       "1       1.0      18.0       5.0       1.0       NaN       5.0       NaN   \n",
       "2       2.0      66.0       5.0       1.0       1.0       2.0       6.0   \n",
       "3       2.0      75.0       4.0       1.0       4.0       1.0       2.0   \n",
       "4       1.0      56.0       5.0       1.0       5.0       3.0      15.0   \n",
       "\n",
       "   INDFMIN2  BMXBMI  URXUAS  ...  FSD032C  FSD061  HUQ051  HUQ090  PAD615  \\\n",
       "0       3.0    31.7     NaN  ...      3.0     NaN     2.0     2.0     NaN   \n",
       "1       NaN    21.5     NaN  ...      NaN     NaN     2.0     2.0     NaN   \n",
       "2       6.0    23.7   24.07  ...      3.0     2.0     3.0     2.0     NaN   \n",
       "3       2.0    38.9     NaN  ...      3.0     2.0     3.0     2.0     NaN   \n",
       "4      15.0    21.3    2.89  ...      3.0     NaN     3.0     2.0     NaN   \n",
       "\n",
       "   SLQ050  OCQ380  PAD630  PAD660        SLQ120  \n",
       "0     2.0     NaN     NaN     NaN  5.397605e-79  \n",
       "1     2.0     2.0     NaN     NaN  1.000000e+00  \n",
       "2     2.0     4.0     NaN     NaN  2.000000e+00  \n",
       "3     2.0     6.0   180.0     NaN  1.000000e+00  \n",
       "4     1.0     NaN     NaN    60.0  3.000000e+00  \n",
       "\n",
       "[5 rows x 35 columns]"
      ]
     },
     "execution_count": 2780,
     "metadata": {},
     "output_type": "execute_result"
    }
   ],
   "source": [
    "subdata_features.head()"
   ]
  },
  {
   "cell_type": "code",
   "execution_count": 2781,
   "metadata": {},
   "outputs": [],
   "source": [
    "# percentage null values \n",
    "nullvals = (subdata.isnull().mean() * 100).round(2)\n",
    "# pretty_table = PrettyTable()\n",
    "# pretty_table.add_column(\"Variable\", nullvals.index) \n",
    "# pretty_table.add_column(\"Percent NA\", nullvals.values) \n",
    "\n",
    "# print(pretty_table)\n",
    "# subdata.info()\n",
    "\n",
    "# nullvals"
   ]
  },
  {
   "cell_type": "code",
   "execution_count": 2782,
   "metadata": {},
   "outputs": [],
   "source": [
    "to_convert = ['RIAGENDR', 'RIDRETH1', 'DMDCITZN', 'DMDEDUC2', 'DMDHHSIZ', 'INDHHIN2', 'INDFMIN2',\n",
    "              'FSD230', 'OCQ380', 'OCQ210','SMQ040', 'FIAINTRP', 'FIAPROXY', 'FSD032A', 'FSD061', 'HUQ051', 'HUQ090', 'PAD615', 'PAD630', 'PAD660', 'PAD680', 'SLQ120']\n",
    "\n",
    "# COMMENTED OUT FOR NOW< NEEDED TO CATEGORIZE THE DATA\n",
    "# subdata[to_convert] = subdata[to_convert].astype('category')\n"
   ]
  },
  {
   "cell_type": "code",
   "execution_count": 2783,
   "metadata": {},
   "outputs": [
    {
     "data": {
      "text/plain": [
       "(5856, 36)"
      ]
     },
     "execution_count": 2783,
     "metadata": {},
     "output_type": "execute_result"
    }
   ],
   "source": [
    "subdata.shape"
   ]
  },
  {
   "cell_type": "code",
   "execution_count": 2784,
   "metadata": {},
   "outputs": [
    {
     "data": {
      "text/html": [
       "<div>\n",
       "<style scoped>\n",
       "    .dataframe tbody tr th:only-of-type {\n",
       "        vertical-align: middle;\n",
       "    }\n",
       "\n",
       "    .dataframe tbody tr th {\n",
       "        vertical-align: top;\n",
       "    }\n",
       "\n",
       "    .dataframe thead th {\n",
       "        text-align: right;\n",
       "    }\n",
       "</style>\n",
       "<table border=\"1\" class=\"dataframe\">\n",
       "  <thead>\n",
       "    <tr style=\"text-align: right;\">\n",
       "      <th></th>\n",
       "      <th>SEQN</th>\n",
       "      <th>RIAGENDR</th>\n",
       "      <th>RIDAGEYR</th>\n",
       "      <th>RIDRETH1</th>\n",
       "      <th>DMDCITZN</th>\n",
       "      <th>DMDEDUC2</th>\n",
       "      <th>DMDHHSIZ</th>\n",
       "      <th>INDHHIN2</th>\n",
       "      <th>INDFMIN2</th>\n",
       "      <th>BMXBMI</th>\n",
       "      <th>...</th>\n",
       "      <th>FSD061</th>\n",
       "      <th>HUQ051</th>\n",
       "      <th>HUQ090</th>\n",
       "      <th>PAD615</th>\n",
       "      <th>SLQ050</th>\n",
       "      <th>OCQ380</th>\n",
       "      <th>PAD630</th>\n",
       "      <th>PAD660</th>\n",
       "      <th>SLQ120</th>\n",
       "      <th>sum_DPQ</th>\n",
       "    </tr>\n",
       "  </thead>\n",
       "  <tbody>\n",
       "    <tr>\n",
       "      <th>0</th>\n",
       "      <td>93705.0</td>\n",
       "      <td>2.0</td>\n",
       "      <td>66.0</td>\n",
       "      <td>4.0</td>\n",
       "      <td>1.0</td>\n",
       "      <td>2.0</td>\n",
       "      <td>1.0</td>\n",
       "      <td>3.0</td>\n",
       "      <td>3.0</td>\n",
       "      <td>31.7</td>\n",
       "      <td>...</td>\n",
       "      <td>NaN</td>\n",
       "      <td>2.0</td>\n",
       "      <td>2.0</td>\n",
       "      <td>NaN</td>\n",
       "      <td>2.0</td>\n",
       "      <td>NaN</td>\n",
       "      <td>NaN</td>\n",
       "      <td>NaN</td>\n",
       "      <td>5.397605e-79</td>\n",
       "      <td>0.0</td>\n",
       "    </tr>\n",
       "    <tr>\n",
       "      <th>1</th>\n",
       "      <td>93706.0</td>\n",
       "      <td>1.0</td>\n",
       "      <td>18.0</td>\n",
       "      <td>5.0</td>\n",
       "      <td>1.0</td>\n",
       "      <td>NaN</td>\n",
       "      <td>5.0</td>\n",
       "      <td>NaN</td>\n",
       "      <td>NaN</td>\n",
       "      <td>21.5</td>\n",
       "      <td>...</td>\n",
       "      <td>NaN</td>\n",
       "      <td>2.0</td>\n",
       "      <td>2.0</td>\n",
       "      <td>NaN</td>\n",
       "      <td>2.0</td>\n",
       "      <td>2.0</td>\n",
       "      <td>NaN</td>\n",
       "      <td>NaN</td>\n",
       "      <td>1.000000e+00</td>\n",
       "      <td>0.0</td>\n",
       "    </tr>\n",
       "    <tr>\n",
       "      <th>2</th>\n",
       "      <td>93708.0</td>\n",
       "      <td>2.0</td>\n",
       "      <td>66.0</td>\n",
       "      <td>5.0</td>\n",
       "      <td>1.0</td>\n",
       "      <td>1.0</td>\n",
       "      <td>2.0</td>\n",
       "      <td>6.0</td>\n",
       "      <td>6.0</td>\n",
       "      <td>23.7</td>\n",
       "      <td>...</td>\n",
       "      <td>2.0</td>\n",
       "      <td>3.0</td>\n",
       "      <td>2.0</td>\n",
       "      <td>NaN</td>\n",
       "      <td>2.0</td>\n",
       "      <td>4.0</td>\n",
       "      <td>NaN</td>\n",
       "      <td>NaN</td>\n",
       "      <td>2.000000e+00</td>\n",
       "      <td>0.0</td>\n",
       "    </tr>\n",
       "    <tr>\n",
       "      <th>3</th>\n",
       "      <td>93711.0</td>\n",
       "      <td>1.0</td>\n",
       "      <td>56.0</td>\n",
       "      <td>5.0</td>\n",
       "      <td>1.0</td>\n",
       "      <td>5.0</td>\n",
       "      <td>3.0</td>\n",
       "      <td>15.0</td>\n",
       "      <td>15.0</td>\n",
       "      <td>21.3</td>\n",
       "      <td>...</td>\n",
       "      <td>NaN</td>\n",
       "      <td>3.0</td>\n",
       "      <td>2.0</td>\n",
       "      <td>NaN</td>\n",
       "      <td>1.0</td>\n",
       "      <td>NaN</td>\n",
       "      <td>NaN</td>\n",
       "      <td>60.0</td>\n",
       "      <td>3.000000e+00</td>\n",
       "      <td>2.0</td>\n",
       "    </tr>\n",
       "    <tr>\n",
       "      <th>4</th>\n",
       "      <td>93712.0</td>\n",
       "      <td>1.0</td>\n",
       "      <td>18.0</td>\n",
       "      <td>1.0</td>\n",
       "      <td>2.0</td>\n",
       "      <td>NaN</td>\n",
       "      <td>4.0</td>\n",
       "      <td>4.0</td>\n",
       "      <td>4.0</td>\n",
       "      <td>19.7</td>\n",
       "      <td>...</td>\n",
       "      <td>2.0</td>\n",
       "      <td>1.0</td>\n",
       "      <td>1.0</td>\n",
       "      <td>420.0</td>\n",
       "      <td>2.0</td>\n",
       "      <td>NaN</td>\n",
       "      <td>180.0</td>\n",
       "      <td>45.0</td>\n",
       "      <td>2.000000e+00</td>\n",
       "      <td>1.0</td>\n",
       "    </tr>\n",
       "  </tbody>\n",
       "</table>\n",
       "<p>5 rows × 37 columns</p>\n",
       "</div>"
      ],
      "text/plain": [
       "      SEQN  RIAGENDR  RIDAGEYR  RIDRETH1  DMDCITZN  DMDEDUC2  DMDHHSIZ  \\\n",
       "0  93705.0       2.0      66.0       4.0       1.0       2.0       1.0   \n",
       "1  93706.0       1.0      18.0       5.0       1.0       NaN       5.0   \n",
       "2  93708.0       2.0      66.0       5.0       1.0       1.0       2.0   \n",
       "3  93711.0       1.0      56.0       5.0       1.0       5.0       3.0   \n",
       "4  93712.0       1.0      18.0       1.0       2.0       NaN       4.0   \n",
       "\n",
       "   INDHHIN2  INDFMIN2  BMXBMI  ...  FSD061  HUQ051  HUQ090  PAD615  SLQ050  \\\n",
       "0       3.0       3.0    31.7  ...     NaN     2.0     2.0     NaN     2.0   \n",
       "1       NaN       NaN    21.5  ...     NaN     2.0     2.0     NaN     2.0   \n",
       "2       6.0       6.0    23.7  ...     2.0     3.0     2.0     NaN     2.0   \n",
       "3      15.0      15.0    21.3  ...     NaN     3.0     2.0     NaN     1.0   \n",
       "4       4.0       4.0    19.7  ...     2.0     1.0     1.0   420.0     2.0   \n",
       "\n",
       "   OCQ380  PAD630  PAD660        SLQ120  sum_DPQ  \n",
       "0     NaN     NaN     NaN  5.397605e-79      0.0  \n",
       "1     2.0     NaN     NaN  1.000000e+00      0.0  \n",
       "2     4.0     NaN     NaN  2.000000e+00      0.0  \n",
       "3     NaN     NaN    60.0  3.000000e+00      2.0  \n",
       "4     NaN   180.0    45.0  2.000000e+00      1.0  \n",
       "\n",
       "[5 rows x 37 columns]"
      ]
     },
     "execution_count": 2784,
     "metadata": {},
     "output_type": "execute_result"
    }
   ],
   "source": [
    "# left join rows with sum_DPQ != null with subdata\n",
    "\n",
    "valid = valid[features]\n",
    "valid.columns\n",
    "\n",
    "sample = pd.merge(valid, subdata, how = \"left\")\n",
    "sample.head()"
   ]
  },
  {
   "cell_type": "code",
   "execution_count": 2785,
   "metadata": {},
   "outputs": [],
   "source": [
    "# sample.loc[sample[\"sum_DPQ\"] > 0]"
   ]
  },
  {
   "cell_type": "markdown",
   "metadata": {},
   "source": [
    "## Clean Data"
   ]
  },
  {
   "cell_type": "markdown",
   "metadata": {},
   "source": [
    "### Original Dataset size: n = 5068\n"
   ]
  },
  {
   "cell_type": "code",
   "execution_count": 2786,
   "metadata": {},
   "outputs": [],
   "source": [
    "## clean\n",
    "\n",
    "# get columns with missing 5% or less values\n",
    "# columns_mostly_complete = sample.columns[(valid.isnull().mean() * 100)  <= 10]\n",
    "\n",
    "\n",
    "cols_enough_data = ((sample.isnull().mean() * 100) <= 5).array\n",
    "sample.loc[:,cols_enough_data]\n",
    "sample = sample.loc[:, columns_mostly_complete.values]\n"
   ]
  },
  {
   "cell_type": "code",
   "execution_count": 2787,
   "metadata": {},
   "outputs": [
    {
     "name": "stdout",
     "output_type": "stream",
     "text": [
      "Index(['SEQN', 'RIAGENDR', 'RIDAGEYR', 'RIDRETH1', 'DMDCITZN', 'DMDEDUC2',\n",
      "       'DMDHHSIZ', 'INDHHIN2', 'INDFMIN2', 'BMXBMI', 'PAD680', 'SLD012',\n",
      "       'FIAINTRP', 'FIAPROXY', 'FSD032A', 'FSD032B', 'FSD032C', 'HUQ051',\n",
      "       'HUQ090', 'SLQ050', 'SLQ120', 'sum_DPQ'],\n",
      "      dtype='object')\n"
     ]
    }
   ],
   "source": [
    "print(sample.columns)"
   ]
  },
  {
   "cell_type": "markdown",
   "metadata": {},
   "source": [
    "## Impute"
   ]
  },
  {
   "cell_type": "code",
   "execution_count": 2788,
   "metadata": {},
   "outputs": [
    {
     "data": {
      "text/html": [
       "<div>\n",
       "<style scoped>\n",
       "    .dataframe tbody tr th:only-of-type {\n",
       "        vertical-align: middle;\n",
       "    }\n",
       "\n",
       "    .dataframe tbody tr th {\n",
       "        vertical-align: top;\n",
       "    }\n",
       "\n",
       "    .dataframe thead th {\n",
       "        text-align: right;\n",
       "    }\n",
       "</style>\n",
       "<table border=\"1\" class=\"dataframe\">\n",
       "  <thead>\n",
       "    <tr style=\"text-align: right;\">\n",
       "      <th></th>\n",
       "      <th>SEQN</th>\n",
       "      <th>RIAGENDR</th>\n",
       "      <th>RIDAGEYR</th>\n",
       "      <th>RIDRETH1</th>\n",
       "      <th>DMDCITZN</th>\n",
       "      <th>DMDEDUC2</th>\n",
       "      <th>DMDHHSIZ</th>\n",
       "      <th>INDHHIN2</th>\n",
       "      <th>INDFMIN2</th>\n",
       "      <th>BMXBMI</th>\n",
       "      <th>...</th>\n",
       "      <th>FIAINTRP</th>\n",
       "      <th>FIAPROXY</th>\n",
       "      <th>FSD032A</th>\n",
       "      <th>FSD032B</th>\n",
       "      <th>FSD032C</th>\n",
       "      <th>HUQ051</th>\n",
       "      <th>HUQ090</th>\n",
       "      <th>SLQ050</th>\n",
       "      <th>SLQ120</th>\n",
       "      <th>sum_DPQ</th>\n",
       "    </tr>\n",
       "  </thead>\n",
       "  <tbody>\n",
       "    <tr>\n",
       "      <th>0</th>\n",
       "      <td>93705.0</td>\n",
       "      <td>2.0</td>\n",
       "      <td>66.0</td>\n",
       "      <td>4.0</td>\n",
       "      <td>1.0</td>\n",
       "      <td>2.000000</td>\n",
       "      <td>1.0</td>\n",
       "      <td>3.00000</td>\n",
       "      <td>3.000000</td>\n",
       "      <td>31.7</td>\n",
       "      <td>...</td>\n",
       "      <td>2.00000</td>\n",
       "      <td>2.000000</td>\n",
       "      <td>3.000000</td>\n",
       "      <td>3.000000</td>\n",
       "      <td>3.000000</td>\n",
       "      <td>2.0</td>\n",
       "      <td>2.0</td>\n",
       "      <td>2.0</td>\n",
       "      <td>5.397605e-79</td>\n",
       "      <td>0.0</td>\n",
       "    </tr>\n",
       "    <tr>\n",
       "      <th>1</th>\n",
       "      <td>93706.0</td>\n",
       "      <td>1.0</td>\n",
       "      <td>18.0</td>\n",
       "      <td>5.0</td>\n",
       "      <td>1.0</td>\n",
       "      <td>4.135871</td>\n",
       "      <td>5.0</td>\n",
       "      <td>9.56063</td>\n",
       "      <td>8.705967</td>\n",
       "      <td>21.5</td>\n",
       "      <td>...</td>\n",
       "      <td>1.91901</td>\n",
       "      <td>1.998333</td>\n",
       "      <td>2.857308</td>\n",
       "      <td>2.862425</td>\n",
       "      <td>2.961721</td>\n",
       "      <td>2.0</td>\n",
       "      <td>2.0</td>\n",
       "      <td>2.0</td>\n",
       "      <td>1.000000e+00</td>\n",
       "      <td>0.0</td>\n",
       "    </tr>\n",
       "    <tr>\n",
       "      <th>2</th>\n",
       "      <td>93708.0</td>\n",
       "      <td>2.0</td>\n",
       "      <td>66.0</td>\n",
       "      <td>5.0</td>\n",
       "      <td>1.0</td>\n",
       "      <td>1.000000</td>\n",
       "      <td>2.0</td>\n",
       "      <td>6.00000</td>\n",
       "      <td>6.000000</td>\n",
       "      <td>23.7</td>\n",
       "      <td>...</td>\n",
       "      <td>2.00000</td>\n",
       "      <td>2.000000</td>\n",
       "      <td>2.000000</td>\n",
       "      <td>3.000000</td>\n",
       "      <td>3.000000</td>\n",
       "      <td>3.0</td>\n",
       "      <td>2.0</td>\n",
       "      <td>2.0</td>\n",
       "      <td>2.000000e+00</td>\n",
       "      <td>0.0</td>\n",
       "    </tr>\n",
       "    <tr>\n",
       "      <th>3</th>\n",
       "      <td>93711.0</td>\n",
       "      <td>1.0</td>\n",
       "      <td>56.0</td>\n",
       "      <td>5.0</td>\n",
       "      <td>1.0</td>\n",
       "      <td>5.000000</td>\n",
       "      <td>3.0</td>\n",
       "      <td>15.00000</td>\n",
       "      <td>15.000000</td>\n",
       "      <td>21.3</td>\n",
       "      <td>...</td>\n",
       "      <td>2.00000</td>\n",
       "      <td>2.000000</td>\n",
       "      <td>3.000000</td>\n",
       "      <td>3.000000</td>\n",
       "      <td>3.000000</td>\n",
       "      <td>3.0</td>\n",
       "      <td>2.0</td>\n",
       "      <td>1.0</td>\n",
       "      <td>3.000000e+00</td>\n",
       "      <td>2.0</td>\n",
       "    </tr>\n",
       "    <tr>\n",
       "      <th>4</th>\n",
       "      <td>93712.0</td>\n",
       "      <td>1.0</td>\n",
       "      <td>18.0</td>\n",
       "      <td>1.0</td>\n",
       "      <td>2.0</td>\n",
       "      <td>2.844333</td>\n",
       "      <td>4.0</td>\n",
       "      <td>4.00000</td>\n",
       "      <td>4.000000</td>\n",
       "      <td>19.7</td>\n",
       "      <td>...</td>\n",
       "      <td>2.00000</td>\n",
       "      <td>2.000000</td>\n",
       "      <td>2.000000</td>\n",
       "      <td>2.000000</td>\n",
       "      <td>2.000000</td>\n",
       "      <td>1.0</td>\n",
       "      <td>1.0</td>\n",
       "      <td>2.0</td>\n",
       "      <td>2.000000e+00</td>\n",
       "      <td>1.0</td>\n",
       "    </tr>\n",
       "  </tbody>\n",
       "</table>\n",
       "<p>5 rows × 22 columns</p>\n",
       "</div>"
      ],
      "text/plain": [
       "      SEQN  RIAGENDR  RIDAGEYR  RIDRETH1  DMDCITZN  DMDEDUC2  DMDHHSIZ  \\\n",
       "0  93705.0       2.0      66.0       4.0       1.0  2.000000       1.0   \n",
       "1  93706.0       1.0      18.0       5.0       1.0  4.135871       5.0   \n",
       "2  93708.0       2.0      66.0       5.0       1.0  1.000000       2.0   \n",
       "3  93711.0       1.0      56.0       5.0       1.0  5.000000       3.0   \n",
       "4  93712.0       1.0      18.0       1.0       2.0  2.844333       4.0   \n",
       "\n",
       "   INDHHIN2   INDFMIN2  BMXBMI  ...  FIAINTRP  FIAPROXY   FSD032A   FSD032B  \\\n",
       "0   3.00000   3.000000    31.7  ...   2.00000  2.000000  3.000000  3.000000   \n",
       "1   9.56063   8.705967    21.5  ...   1.91901  1.998333  2.857308  2.862425   \n",
       "2   6.00000   6.000000    23.7  ...   2.00000  2.000000  2.000000  3.000000   \n",
       "3  15.00000  15.000000    21.3  ...   2.00000  2.000000  3.000000  3.000000   \n",
       "4   4.00000   4.000000    19.7  ...   2.00000  2.000000  2.000000  2.000000   \n",
       "\n",
       "    FSD032C  HUQ051  HUQ090  SLQ050        SLQ120  sum_DPQ  \n",
       "0  3.000000     2.0     2.0     2.0  5.397605e-79      0.0  \n",
       "1  2.961721     2.0     2.0     2.0  1.000000e+00      0.0  \n",
       "2  3.000000     3.0     2.0     2.0  2.000000e+00      0.0  \n",
       "3  3.000000     3.0     2.0     1.0  3.000000e+00      2.0  \n",
       "4  2.000000     1.0     1.0     2.0  2.000000e+00      1.0  \n",
       "\n",
       "[5 rows x 22 columns]"
      ]
     },
     "execution_count": 2788,
     "metadata": {},
     "output_type": "execute_result"
    }
   ],
   "source": [
    "from sklearn.impute import SimpleImputer\n",
    "\n",
    "from sklearn.experimental import enable_iterative_imputer\n",
    "from sklearn.impute import IterativeImputer\n",
    "\n",
    "# imputer = SimpleImputer(missing_values = np.nan, strategy = 'mean')\n",
    "imputer = IterativeImputer(missing_values = np.nan, initial_strategy = 'median')\n",
    "\n",
    "imputer = imputer.fit(sample)\n",
    "filled = imputer.transform(sample)\n",
    "cols = sample.columns\n",
    "\n",
    "sample = pd.DataFrame(filled, columns = cols)\n",
    "sample.head()"
   ]
  },
  {
   "cell_type": "markdown",
   "metadata": {},
   "source": [
    "### Feature selection"
   ]
  },
  {
   "cell_type": "code",
   "execution_count": 2789,
   "metadata": {},
   "outputs": [
    {
     "data": {
      "text/plain": [
       "SEQN        0.0\n",
       "RIAGENDR    0.0\n",
       "RIDAGEYR    0.0\n",
       "RIDRETH1    0.0\n",
       "DMDCITZN    0.0\n",
       "dtype: float64"
      ]
     },
     "execution_count": 2789,
     "metadata": {},
     "output_type": "execute_result"
    }
   ],
   "source": [
    "(sample.isnull().mean() * 100).head()"
   ]
  },
  {
   "cell_type": "code",
   "execution_count": 2790,
   "metadata": {},
   "outputs": [
    {
     "data": {
      "text/plain": [
       "HUQ051     0.0\n",
       "HUQ090     0.0\n",
       "SLQ050     0.0\n",
       "SLQ120     0.0\n",
       "sum_DPQ    0.0\n",
       "dtype: float64"
      ]
     },
     "execution_count": 2790,
     "metadata": {},
     "output_type": "execute_result"
    }
   ],
   "source": [
    "(sample.isnull().mean() * 100).tail()"
   ]
  },
  {
   "cell_type": "code",
   "execution_count": 2791,
   "metadata": {},
   "outputs": [
    {
     "name": "stdout",
     "output_type": "stream",
     "text": [
      "['RIAGENDR' 'DMDEDUC2' 'INDFMIN2' 'FIAPROXY' 'FSD032A' 'HUQ090' 'SLQ050'\n",
      " 'SLQ120']\n",
      "['RIAGENDR' 'RIDRETH1' 'DMDEDUC2' 'FIAPROXY' 'FSD032A' 'HUQ090' 'SLQ050'\n",
      " 'SLQ120']\n"
     ]
    }
   ],
   "source": [
    "\n",
    "X = sample.loc[:, ~sample.columns.isin(['SEQN','sum_DPQ'])]\n",
    "y = sample.loc[:, ['sum_DPQ']]\n",
    "\n",
    "\n",
    "\n",
    "# split data\n",
    "X_train, X_test, y_train, y_test = train_test_split(\n",
    "    X, y, test_size = 0.01, random_state = RANDOM_SEED)\n",
    "\n",
    "\n",
    "## STANDARDUIZE X_train\n",
    "# scaler = RobustScaler().fit(X_train)\n",
    "normalizer = Normalizer().fit(X_train)\n",
    "X_scaled = normalizer.transform(X_train)\n",
    "\n",
    "######################\n",
    "linear_model = LinearRegression()\n",
    "\n",
    "sfs1 = SequentialFeatureSelector(linear_model, direction = \"backward\", cv = 5, n_features_to_select = 8)\n",
    "sfs1 = sfs1.fit(X_scaled, y_train)\n",
    "\n",
    "# final selected features\n",
    "backward_selected_features = X_train.columns.values[sfs1.get_support()]\n",
    "print(backward_selected_features)\n",
    "\n",
    "##################\n",
    "\n",
    "linear_model = LinearRegression()\n",
    "\n",
    "# FORWARD SELECTION\n",
    "sfs2 = SequentialFeatureSelector(linear_model, direction = \"forward\", cv = 5, n_features_to_select = 8)\n",
    "sfs2 = sfs2.fit(X_scaled, y_train)\n",
    "\n",
    "# final selected features\n",
    "forward_selected_features = X_train.columns.values[sfs2.get_support()]\n",
    "print(forward_selected_features)"
   ]
  },
  {
   "cell_type": "code",
   "execution_count": 2792,
   "metadata": {},
   "outputs": [
    {
     "data": {
      "text/plain": [
       "Index(['RIAGENDR', 'RIDAGEYR', 'RIDRETH1', 'DMDCITZN', 'DMDEDUC2', 'DMDHHSIZ',\n",
       "       'INDHHIN2', 'INDFMIN2', 'BMXBMI', 'PAD680', 'SLD012', 'FIAINTRP',\n",
       "       'FIAPROXY', 'FSD032A', 'FSD032B', 'FSD032C', 'HUQ051', 'HUQ090',\n",
       "       'SLQ050', 'SLQ120'],\n",
       "      dtype='object')"
      ]
     },
     "execution_count": 2792,
     "metadata": {},
     "output_type": "execute_result"
    }
   ],
   "source": [
    "X_train.columns"
   ]
  },
  {
   "cell_type": "markdown",
   "metadata": {},
   "source": [
    "# Fit linear regression"
   ]
  },
  {
   "cell_type": "markdown",
   "metadata": {},
   "source": [
    "## with all features\n",
    "\n"
   ]
  },
  {
   "cell_type": "code",
   "execution_count": 2793,
   "metadata": {},
   "outputs": [
    {
     "name": "stdout",
     "output_type": "stream",
     "text": [
      "MSE (All Features): 15.153717524938694\n",
      "r-squared: 0.15059762273060828\n",
      "rmse: 3.8927776105165184\n"
     ]
    }
   ],
   "source": [
    "X = sample.loc[:, ~sample.columns.isin(['SEQN','sum_DPQ'])]\n",
    "y = sample.loc[:, ['sum_DPQ']]\n",
    "\n",
    "# split data\n",
    "X_train, X_test, y_train, y_test = train_test_split(\n",
    "    X, y, test_size = 0.30, random_state = RANDOM_SEED)\n",
    "\n",
    "\n",
    "## STANDARDUIZE X_train\n",
    "# scaler = StandardScaler().fit(X_train)\n",
    "normalizer = Normalizer().fit(X_train)\n",
    "X_scaled = normalizer.transform(X_train)\n",
    "\n",
    "\n",
    "linear_model = LinearRegression()\n",
    "linear_model = linear_model.fit(X_scaled, y_train)\n",
    "\n",
    "# predict\n",
    "y_pred = linear_model.predict(normalizer.transform(X_test))\n",
    "r2 = r2_score(y_test, y_pred)\n",
    "\n",
    "MSE = mean_squared_error(y_test, y_pred)\n",
    "print(f'MSE (All Features): {MSE}\\nr-squared: {r2}\\nrmse: {np.sqrt(MSE)}')"
   ]
  },
  {
   "cell_type": "code",
   "execution_count": 2794,
   "metadata": {},
   "outputs": [
    {
     "data": {
      "text/plain": [
       "Text(0, 0.5, 'pred values')"
      ]
     },
     "execution_count": 2794,
     "metadata": {},
     "output_type": "execute_result"
    },
    {
     "data": {
      "image/png": "[encoded data removed]",
      "text/plain": [
       "<Figure size 432x288 with 1 Axes>"
      ]
     },
     "metadata": {
      "needs_background": "light"
     },
     "output_type": "display_data"
    }
   ],
   "source": [
    "plt.scatter(y_test, y_pred, alpha = 0.5)\n",
    "# plt.xlim(0, 30)\n",
    "# plt.ylim(0, 30)\n",
    "plt.xlabel(\"true values\")\n",
    "plt.ylabel(\"pred values\")"
   ]
  },
  {
   "cell_type": "markdown",
   "metadata": {
    "tags": []
   },
   "source": [
    "## with backward selected features"
   ]
  },
  {
   "cell_type": "code",
   "execution_count": 2795,
   "metadata": {},
   "outputs": [
    {
     "name": "stdout",
     "output_type": "stream",
     "text": [
      "MSE (LM Backwards selected features): 13.52667809864372\n",
      "r-squared: 0.24179710261609388\n",
      "rmse: 3.677863251759603\n"
     ]
    }
   ],
   "source": [
    "X = sample.loc[:, sample.columns.isin(backward_selected_features)]\n",
    "y = sample.loc[:, ['sum_DPQ']]\n",
    "\n",
    "# split data\n",
    "X_train, X_test, y_train, y_test = train_test_split(\n",
    "    X, y, test_size = 0.3, random_state = RANDOM_SEED)\n",
    "\n",
    "\n",
    "## STANDARDUIZE X_train\n",
    "# scaler = StandardScaler().fit(X_train)\n",
    "normalizer = Normalizer().fit(X_train)\n",
    "X_scaled = normalizer.transform(X_train)\n",
    "\n",
    "\n",
    "linear_model = LinearRegression()\n",
    "linear_model = linear_model.fit(X_scaled, y_train)\n",
    "\n",
    "# predict\n",
    "y_pred = linear_model.predict(normalizer.transform(X_test))\n",
    "r2 = r2_score(y_test, y_pred)\n",
    "\n",
    "MSE = mean_squared_error(y_test, y_pred)\n",
    "print(f'MSE (LM Backwards selected features): {MSE}\\nr-squared: {r2}\\nrmse: {np.sqrt(MSE)}')"
   ]
  },
  {
   "cell_type": "code",
   "execution_count": 2796,
   "metadata": {},
   "outputs": [],
   "source": [
    "import statsmodels.api as sm\n",
    "from scipy import stats\n",
    "\n",
    "# plt.scatter(x = y_test, y = y_pred, alpha = 0.5)\n",
    "# plt.xlim(0, 30)\n",
    "# plt.ylim(0, 30)\n",
    "# plt.xlabel(\"true values\")\n",
    "# plt.ylabel(\"pred values\")\n"
   ]
  },
  {
   "cell_type": "markdown",
   "metadata": {},
   "source": [
    "## with forward selection"
   ]
  },
  {
   "cell_type": "code",
   "execution_count": 2797,
   "metadata": {},
   "outputs": [
    {
     "name": "stdout",
     "output_type": "stream",
     "text": [
      "MSE (LM Backwards selected features): 13.098190539756567\n",
      "r-squared: 0.26581486265089294\n",
      "rmse: 3.619142238121703\n"
     ]
    }
   ],
   "source": [
    "X = sample.loc[:, sample.columns.isin(forward_selected_features)]\n",
    "y = sample.loc[:, ['sum_DPQ']]\n",
    "\n",
    "# split data\n",
    "X_train, X_test, y_train, y_test = train_test_split(\n",
    "    X, y, test_size = 0.3, random_state = RANDOM_SEED)\n",
    "\n",
    "\n",
    "## STANDARDUIZE X_train\n",
    "# scaler = StandardScaler().fit(X_train)\n",
    "normalizer = Normalizer().fit(X_train)\n",
    "X_scaled = normalizer.transform(X_train)\n",
    "\n",
    "\n",
    "linear_model = LinearRegression()\n",
    "linear_model = linear_model.fit(X_scaled, y_train)\n",
    "\n",
    "\n",
    "# predict\n",
    "y_pred = linear_model.predict(normalizer.transform(X_test))\n",
    "r2 = r2_score(y_test, y_pred)\n",
    "\n",
    "nrmse = rmse / np.ptp(y_train)  # RMSE normalized to the value range of the target variable (unit: %).\n",
    "\n",
    "\n",
    "MSE = mean_squared_error(y_test, y_pred)\n",
    "print(f'MSE (LM Backwards selected features): {MSE}\\nr-squared: {r2}\\nrmse: {np.sqrt(MSE)}')"
   ]
  },
  {
   "cell_type": "code",
   "execution_count": 2798,
   "metadata": {},
   "outputs": [],
   "source": [
    "# plt.scatter(y_test, y_pred, alpha = 0.5)\n",
    "# plt.xlim(-15, 30)\n",
    "# plt.ylim(-15, 30)\n",
    "# plt.xlabel(\"true values\")\n",
    "# plt.ylabel(\"pred values\")\n"
   ]
  },
  {
   "cell_type": "code",
   "execution_count": 2799,
   "metadata": {},
   "outputs": [
    {
     "name": "stdout",
     "output_type": "stream",
     "text": [
      "(4861, 22)\n",
      "(207, 22)\n"
     ]
    }
   ],
   "source": [
    "# scaler = StandardScaler().fit(X_train)\n",
    "# X_train = scaler.transform(X_train)\n",
    "# X_val = scaler.transform(X_val)\n",
    "# X_test = scaler.transform(test_features)\n",
    "\n",
    "print(sample.loc[sample[\"sum_DPQ\"].between(0,27/2)].shape)\n",
    "print(sample.loc[sample[\"sum_DPQ\"].between(27/2,28)].shape)"
   ]
  },
  {
   "cell_type": "markdown",
   "metadata": {},
   "source": [
    "# One hot Encoding sample DF"
   ]
  },
  {
   "cell_type": "code",
   "execution_count": 2800,
   "metadata": {},
   "outputs": [],
   "source": [
    "# from sklearn.preprocessing import OneHotEncoder\n",
    "\n",
    "# #creating instance of one-hot-encoder\n",
    "# encoder = OneHotEncoder(handle_unknown='ignore')\n",
    "\n",
    "# #perform one-hot encoding on 'team' column \n",
    "# encoder_df = pd.DataFrame(encoder.fit_transform(sample[['RIAGENDR']]).toarray())\n",
    "# encoder.categories"
   ]
  },
  {
   "cell_type": "code",
   "execution_count": 2801,
   "metadata": {},
   "outputs": [],
   "source": [
    "# subdata.loc[subdata[\"PAD680\"].isnull()]"
   ]
  },
  {
   "cell_type": "code",
   "execution_count": 2802,
   "metadata": {},
   "outputs": [
    {
     "name": "stdout",
     "output_type": "stream",
     "text": [
      "['RIAGENDR' 'DMDEDUC2' 'INDFMIN2' 'FIAPROXY' 'FSD032A' 'HUQ090' 'SLQ050'\n",
      " 'SLQ120']\n"
     ]
    },
    {
     "data": {
      "text/plain": [
       "<AxesSubplot:>"
      ]
     },
     "execution_count": 2802,
     "metadata": {},
     "output_type": "execute_result"
    },
    {
     "data": {
      "image/png": "[encoded data removed]",
      "text/plain": [
       "<Figure size 432x288 with 2 Axes>"
      ]
     },
     "metadata": {
      "needs_background": "light"
     },
     "output_type": "display_data"
    }
   ],
   "source": [
    "import seaborn as sb\n",
    "\n",
    "corr = sample.loc[:,backward_selected_features].corr()\n",
    "# sb.heatmap(corr, cmap=\"Blues\", annot=True)\n",
    "\n",
    "print(backward_selected_features)\n",
    "sns.heatmap(corr, \n",
    "        xticklabels=corr.columns,\n",
    "        yticklabels=corr.columns)"
   ]
  },
  {
   "cell_type": "markdown",
   "metadata": {},
   "source": [
    "# Lasso Regression"
   ]
  },
  {
   "cell_type": "code",
   "execution_count": 2804,
   "metadata": {},
   "outputs": [
    {
     "name": "stderr",
     "output_type": "stream",
     "text": [
      "C:\\Users\\samba\\anaconda3\\lib\\site-packages\\sklearn\\utils\\validation.py:63: DataConversionWarning: A column-vector y was passed when a 1d array was expected. Please change the shape of y to (n_samples, ), for example using ravel().\n",
      "  return f(*args, **kwargs)\n"
     ]
    },
    {
     "name": "stdout",
     "output_type": "stream",
     "text": [
      "MSE (LM Forward selected features): 13.185102235091994\n",
      "r-squared: 0.2609432527301633\n",
      "rmse: 3.6311296086881826\n"
     ]
    }
   ],
   "source": [
    "\n",
    "X = sample.loc[:, sample.columns.isin(forward_selected_features)]\n",
    "y = sample.loc[:, ['sum_DPQ']]\n",
    "\n",
    "# split data\n",
    "X_train, X_test, y_train, y_test = train_test_split(\n",
    "    X, y, test_size = 0.3, random_state = RANDOM_SEED)\n",
    "\n",
    "\n",
    "clf = LassoCV(n_alphas = 500)\n",
    "clf = clf.fit(X_train, y_train)\n",
    "\n",
    "# predict\n",
    "y_pred = clf.predict(X_test)\n",
    "r2 = r2_score(y_test, y_pred)\n",
    "\n",
    "# nrmse = rmse / np.ptp(y_train)  # RMSE normalized to the value range of the target variable (unit: %).\n",
    "\n",
    "MSE = mean_squared_error(y_test, y_pred)\n",
    "print(f'MSE (LM Forward selected features): {MSE}\\nr-squared: {r2}\\nrmse: {np.sqrt(MSE)}')"
   ]
  },
  {
   "cell_type": "markdown",
   "metadata": {},
   "source": [
    "## "
   ]
  }
 ],
 "metadata": {
  "kernelspec": {
   "display_name": "Python 3 (ipykernel)",
   "language": "python",
   "name": "python3"
  },
  "language_info": {
   "codemirror_mode": {
    "name": "ipython",
    "version": 3
   },
   "file_extension": ".py",
   "mimetype": "text/x-python",
   "name": "python",
   "nbconvert_exporter": "python",
   "pygments_lexer": "ipython3",
   "version": "3.9.7"
  }
 },
 "nbformat": 4,
 "nbformat_minor": 4
}
